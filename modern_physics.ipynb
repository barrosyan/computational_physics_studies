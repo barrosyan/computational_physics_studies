{
  "nbformat": 4,
  "nbformat_minor": 0,
  "metadata": {
    "colab": {
      "provenance": [],
      "authorship_tag": "ABX9TyNL8F8TxRYFhrOrL40d6uTs"
    },
    "kernelspec": {
      "name": "python3",
      "display_name": "Python 3"
    },
    "language_info": {
      "name": "python"
    }
  },
  "cells": [
    {
      "cell_type": "code",
      "execution_count": 1,
      "metadata": {
        "id": "tbIK-mI9gI2U"
      },
      "outputs": [],
      "source": [
        "import numpy as np"
      ]
    },
    {
      "cell_type": "code",
      "source": [
        "momentum=5e-24\n",
        "h=6.626e-34\n",
        "mass=9.109e-31"
      ],
      "metadata": {
        "id": "TMDHnPSZgNRY"
      },
      "execution_count": 2,
      "outputs": []
    },
    {
      "cell_type": "code",
      "source": [
        "debroglie_wavelength = h/(momentum*np.sqrt(2*mass))"
      ],
      "metadata": {
        "id": "rQ57zvMGgTSG"
      },
      "execution_count": 5,
      "outputs": []
    },
    {
      "cell_type": "code",
      "source": [
        "print(f\"de Broglie Wavelength: {debroglie_wavelength}m\")"
      ],
      "metadata": {
        "colab": {
          "base_uri": "https://localhost:8080/"
        },
        "id": "0AUG1Avygkus",
        "outputId": "72d2f844-7c35-4775-d299-1100e76fabb6"
      },
      "execution_count": 6,
      "outputs": [
        {
          "output_type": "stream",
          "name": "stdout",
          "text": [
            "de Broglie Wavelength: 98181.81999302866m\n"
          ]
        }
      ]
    }
  ]
}