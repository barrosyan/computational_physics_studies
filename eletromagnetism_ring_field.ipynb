{
  "nbformat": 4,
  "nbformat_minor": 0,
  "metadata": {
    "colab": {
      "provenance": [],
      "authorship_tag": "ABX9TyP37t9RaUCtmePDIpLNMANb",
      "include_colab_link": true
    },
    "kernelspec": {
      "name": "python3",
      "display_name": "Python 3"
    },
    "language_info": {
      "name": "python"
    }
  },
  "cells": [
    {
      "cell_type": "markdown",
      "metadata": {
        "id": "view-in-github",
        "colab_type": "text"
      },
      "source": [
        "<a href=\"https://colab.research.google.com/github/barrosyan/sources/blob/main/eletromagnetism_ring_field.ipynb\" target=\"_parent\"><img src=\"https://colab.research.google.com/assets/colab-badge.svg\" alt=\"Open In Colab\"/></a>"
      ]
    },
    {
      "cell_type": "code",
      "execution_count": 1,
      "metadata": {
        "id": "v00tjatPIvIg"
      },
      "outputs": [],
      "source": [
        "import numpy as np"
      ]
    },
    {
      "cell_type": "code",
      "source": [
        "K=9e9\n",
        "Q=2e-6\n",
        "radius=0.1"
      ],
      "metadata": {
        "id": "1NA9ieSmI7zs"
      },
      "execution_count": 2,
      "outputs": []
    },
    {
      "cell_type": "code",
      "source": [
        "observation_point=np.array([0.2,0.3,0])\n",
        "observation_point"
      ],
      "metadata": {
        "colab": {
          "base_uri": "https://localhost:8080/"
        },
        "id": "oUriFwMzI_JI",
        "outputId": "b83551fa-1a38-4698-dc05-7287d92b6eed"
      },
      "execution_count": 6,
      "outputs": [
        {
          "output_type": "execute_result",
          "data": {
            "text/plain": [
              "array([0.2, 0.3, 0. ])"
            ]
          },
          "metadata": {},
          "execution_count": 6
        }
      ]
    },
    {
      "cell_type": "code",
      "source": [
        "theta=np.linspace(0.2*np.pi,1000)\n",
        "x_ring=radius*np.cos(theta)\n",
        "y_ring=radius*np.sin(theta)\n",
        "z_ring=0"
      ],
      "metadata": {
        "id": "_xVokmyWJLHo"
      },
      "execution_count": 7,
      "outputs": []
    },
    {
      "cell_type": "code",
      "source": [
        "x_ring"
      ],
      "metadata": {
        "colab": {
          "base_uri": "https://localhost:8080/"
        },
        "id": "oD3L4K3nJVyY",
        "outputId": "694c65a3-f537-42d6-94c4-61a375c70f5f"
      },
      "execution_count": 8,
      "outputs": [
        {
          "output_type": "execute_result",
          "data": {
            "text/plain": [
              "array([ 0.0809017 , -0.05673685, -0.08373959,  0.05254833,  0.08636797,\n",
              "       -0.04822834, -0.08878028,  0.0437877 ,  0.09097047, -0.0392375 ,\n",
              "       -0.09293306,  0.03458914,  0.09466316, -0.02985424, -0.09615642,\n",
              "        0.02504465,  0.09740911, -0.0201724 , -0.0984181 ,  0.01524968,\n",
              "        0.09918087, -0.01028881, -0.0996955 ,  0.0053022 ,  0.0999607 ,\n",
              "       -0.00030233, -0.09997583, -0.0046983 ,  0.09974082,  0.00968718,\n",
              "       -0.09925629, -0.01465182,  0.09852343,  0.01957981, -0.09754408,\n",
              "       -0.02445881,  0.09632069,  0.02927661, -0.09485632, -0.03402117,\n",
              "        0.09315463,  0.03868062, -0.09121989, -0.04324329,  0.08905693,\n",
              "        0.04769778, -0.08667116, -0.05203293,  0.08406856,  0.05623791])"
            ]
          },
          "metadata": {},
          "execution_count": 8
        }
      ]
    },
    {
      "cell_type": "code",
      "source": [
        "y_ring"
      ],
      "metadata": {
        "colab": {
          "base_uri": "https://localhost:8080/"
        },
        "id": "-tS5iyF5Jv4Y",
        "outputId": "bd384dfb-a365-44ed-96fd-ec36aa2b8587"
      },
      "execution_count": 9,
      "outputs": [
        {
          "output_type": "execute_result",
          "data": {
            "text/plain": [
              "array([ 0.05877853,  0.0823464 , -0.05465969, -0.08508039,  0.0504041 ,\n",
              "        0.08760152, -0.04602242, -0.08990349,  0.04152559,  0.09198053,\n",
              "       -0.03692487, -0.09382746,  0.03223177,  0.09543964, -0.02745803,\n",
              "       -0.09681305,  0.02261559,  0.09794424, -0.01771658, -0.0988304 ,\n",
              "        0.01277324,  0.09946929, -0.00779795, -0.09985933,  0.00280314,\n",
              "        0.09999954,  0.00219868, -0.09988957, -0.00719499,  0.09952969,\n",
              "        0.01217331, -0.0989208 , -0.01712117,  0.09806442,  0.0220262 ,\n",
              "       -0.09696271, -0.02687612,  0.09561841,  0.0316588 , -0.09403489,\n",
              "       -0.03636227,  0.0922161 ,  0.04097477, -0.09016661, -0.04548476,\n",
              "        0.08789153,  0.04988096, -0.08539657, -0.05415236,  0.08268795])"
            ]
          },
          "metadata": {},
          "execution_count": 9
        }
      ]
    },
    {
      "cell_type": "code",
      "source": [
        "electric_field=np.zeros(3)\n",
        "electric_field"
      ],
      "metadata": {
        "colab": {
          "base_uri": "https://localhost:8080/"
        },
        "id": "Tqmx5QjEJ4Tw",
        "outputId": "8d671540-f610-4545-a594-e9bfa7142524"
      },
      "execution_count": 14,
      "outputs": [
        {
          "output_type": "execute_result",
          "data": {
            "text/plain": [
              "array([0., 0., 0.])"
            ]
          },
          "metadata": {},
          "execution_count": 14
        }
      ]
    },
    {
      "cell_type": "code",
      "source": [
        "for i in range(len(theta)):\n",
        "  r=observation_point-np.array((x_ring[i],y_ring[i],z_ring))\n",
        "  r_mag=np.linalg.norm(r)\n",
        "  electric_field+=(K*Q/r_mag**3)*r"
      ],
      "metadata": {
        "id": "DoLux8m-J6Mo"
      },
      "execution_count": 15,
      "outputs": []
    },
    {
      "cell_type": "code",
      "source": [
        "print(f\"Electric Field at Observation Point: {electric_field}\")"
      ],
      "metadata": {
        "colab": {
          "base_uri": "https://localhost:8080/"
        },
        "id": "ZA3fktsZK6ru",
        "outputId": "6b70f442-2b3b-4fc6-ee00-84104c937334"
      },
      "execution_count": 16,
      "outputs": [
        {
          "output_type": "stream",
          "name": "stdout",
          "text": [
            "Electric Field at Observation Point: [4132635.38337162 6200684.5014172        0.        ]\n"
          ]
        }
      ]
    },
    {
      "cell_type": "code",
      "source": [],
      "metadata": {
        "id": "XL1tst1YLADH"
      },
      "execution_count": null,
      "outputs": []
    }
  ]
}