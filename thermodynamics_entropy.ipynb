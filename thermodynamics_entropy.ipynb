{
  "nbformat": 4,
  "nbformat_minor": 0,
  "metadata": {
    "colab": {
      "provenance": [],
      "authorship_tag": "ABX9TyMst+/AeVwqYVhWPNhC0rmo"
    },
    "kernelspec": {
      "name": "python3",
      "display_name": "Python 3"
    },
    "language_info": {
      "name": "python"
    }
  },
  "cells": [
    {
      "cell_type": "code",
      "execution_count": 10,
      "metadata": {
        "id": "7bqCZw0yQFmh"
      },
      "outputs": [],
      "source": [
        "import numpy as np"
      ]
    },
    {
      "cell_type": "code",
      "source": [
        "V_initial=1.0\n",
        "V_final=2.0"
      ],
      "metadata": {
        "id": "J22MLYPQQQgW"
      },
      "execution_count": 18,
      "outputs": []
    },
    {
      "cell_type": "code",
      "source": [
        "T=300\n",
        "R=8.314\n",
        "n=1"
      ],
      "metadata": {
        "id": "XI8iBqKiQ2zM"
      },
      "execution_count": 19,
      "outputs": []
    },
    {
      "cell_type": "code",
      "source": [
        "entropy_change=n*R*np.log(V_final/V_initial)"
      ],
      "metadata": {
        "colab": {
          "base_uri": "https://localhost:8080/"
        },
        "id": "CQD-3dhLQ_Od",
        "outputId": "93f34e75-086c-4212-a1f6-647b640a7051"
      },
      "execution_count": 20,
      "outputs": [
        {
          "output_type": "execute_result",
          "data": {
            "text/plain": [
              "5.762825659175385"
            ]
          },
          "metadata": {},
          "execution_count": 20
        }
      ]
    },
    {
      "cell_type": "code",
      "source": [
        "print(f\"Entropy change of the Gas: {entropy_change}J/K\")"
      ],
      "metadata": {
        "colab": {
          "base_uri": "https://localhost:8080/"
        },
        "id": "iHwXlIecRECV",
        "outputId": "7033f4c1-b349-4ccd-959e-fd0081f401c1"
      },
      "execution_count": 21,
      "outputs": [
        {
          "output_type": "stream",
          "name": "stdout",
          "text": [
            "Entropy change of the Gas: 5.762825659175385J/K\n"
          ]
        }
      ]
    }
  ]
}