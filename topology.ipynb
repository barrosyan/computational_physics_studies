{
  "nbformat": 4,
  "nbformat_minor": 0,
  "metadata": {
    "colab": {
      "provenance": [],
      "authorship_tag": "ABX9TyOPtWJtyj0Ph5htM5vOEUEU",
      "include_colab_link": true
    },
    "kernelspec": {
      "name": "python3",
      "display_name": "Python 3"
    },
    "language_info": {
      "name": "python"
    }
  },
  "cells": [
    {
      "cell_type": "markdown",
      "metadata": {
        "id": "view-in-github",
        "colab_type": "text"
      },
      "source": [
        "<a href=\"https://colab.research.google.com/github/barrosyan/sources/blob/main/topology.ipynb\" target=\"_parent\"><img src=\"https://colab.research.google.com/assets/colab-badge.svg\" alt=\"Open In Colab\"/></a>"
      ]
    },
    {
      "cell_type": "code",
      "execution_count": 1,
      "metadata": {
        "id": "xLcma-2sg7OA"
      },
      "outputs": [],
      "source": [
        "import numpy as np"
      ]
    },
    {
      "cell_type": "code",
      "source": [
        "hamiltonian = np.array ([[1,-1,0,0],\n",
        "                         [-1,1,-1,0],\n",
        "                         [0,-1,1,-1],\n",
        "                         [0,0,-1,1]])"
      ],
      "metadata": {
        "id": "ksc5sAYfg_rQ"
      },
      "execution_count": 2,
      "outputs": []
    },
    {
      "cell_type": "code",
      "source": [
        "eigenvalues,_=np.linalg.eigh(hamiltonian)\n",
        "eigenvalues"
      ],
      "metadata": {
        "colab": {
          "base_uri": "https://localhost:8080/"
        },
        "id": "xgKoL5zWhSoe",
        "outputId": "c1318fd9-9eea-4cd9-fed9-837d8817bef1"
      },
      "execution_count": 5,
      "outputs": [
        {
          "output_type": "execute_result",
          "data": {
            "text/plain": [
              "array([-0.61803399,  0.38196601,  1.61803399,  2.61803399])"
            ]
          },
          "metadata": {},
          "execution_count": 5
        }
      ]
    },
    {
      "cell_type": "code",
      "source": [
        "negative_eigenvalues=np.count_nonzero(eigenvalues<0)\n",
        "negative_eigenvalues"
      ],
      "metadata": {
        "colab": {
          "base_uri": "https://localhost:8080/"
        },
        "id": "zZXXCPLQhWDc",
        "outputId": "8fa82574-97b7-4105-f2e8-97d2e89f66a3"
      },
      "execution_count": 6,
      "outputs": [
        {
          "output_type": "execute_result",
          "data": {
            "text/plain": [
              "1"
            ]
          },
          "metadata": {},
          "execution_count": 6
        }
      ]
    },
    {
      "cell_type": "code",
      "source": [
        "topological_invariant=negative_eigenvalues"
      ],
      "metadata": {
        "id": "U_e-FiBWhtGJ"
      },
      "execution_count": 7,
      "outputs": []
    },
    {
      "cell_type": "code",
      "source": [
        "print(f\"Topological Invariant: {topological_invariant}\")"
      ],
      "metadata": {
        "colab": {
          "base_uri": "https://localhost:8080/"
        },
        "id": "Gzh8GM2yXlLB",
        "outputId": "10cdbccc-0256-42d4-e686-b88f018fd913"
      },
      "execution_count": 8,
      "outputs": [
        {
          "output_type": "stream",
          "name": "stdout",
          "text": [
            "Topological Invariant: 1\n"
          ]
        }
      ]
    }
  ]
}