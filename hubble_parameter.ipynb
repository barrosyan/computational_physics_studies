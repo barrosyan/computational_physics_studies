{
  "nbformat": 4,
  "nbformat_minor": 0,
  "metadata": {
    "colab": {
      "provenance": [],
      "authorship_tag": "ABX9TyO583r/EUw5V0JKNd3ZmXPT"
    },
    "kernelspec": {
      "name": "python3",
      "display_name": "Python 3"
    },
    "language_info": {
      "name": "python"
    }
  },
  "cells": [
    {
      "cell_type": "code",
      "execution_count": 1,
      "metadata": {
        "id": "f_NuImFVZZSr"
      },
      "outputs": [],
      "source": [
        "import numpy as np"
      ]
    },
    {
      "cell_type": "code",
      "source": [
        "recessional_velocity = 73.5\n",
        "distance = 14e6\n",
        "velocity_ms = recessional_velocity*1e3\n",
        "distance_m = distance*3.086e16"
      ],
      "metadata": {
        "id": "Q8dYHKbnZbHp"
      },
      "execution_count": 2,
      "outputs": []
    },
    {
      "cell_type": "code",
      "source": [
        "velocity_ms"
      ],
      "metadata": {
        "colab": {
          "base_uri": "https://localhost:8080/"
        },
        "id": "0hRMivqZZkmq",
        "outputId": "4df08556-1adb-4dbe-9eca-786fc9682f42"
      },
      "execution_count": 3,
      "outputs": [
        {
          "output_type": "execute_result",
          "data": {
            "text/plain": [
              "73500.0"
            ]
          },
          "metadata": {},
          "execution_count": 3
        }
      ]
    },
    {
      "cell_type": "code",
      "source": [
        "distance_m"
      ],
      "metadata": {
        "colab": {
          "base_uri": "https://localhost:8080/"
        },
        "id": "ngmNDKYdZmfy",
        "outputId": "459fe735-abc8-4073-a21a-5c32c957b9ca"
      },
      "execution_count": 4,
      "outputs": [
        {
          "output_type": "execute_result",
          "data": {
            "text/plain": [
              "4.3204e+23"
            ]
          },
          "metadata": {},
          "execution_count": 4
        }
      ]
    },
    {
      "cell_type": "code",
      "source": [
        "hubble_parameter=velocity_ms/distance_m"
      ],
      "metadata": {
        "id": "C8d8oouJZnUi"
      },
      "execution_count": 5,
      "outputs": []
    },
    {
      "cell_type": "code",
      "source": [
        "print(f\"Hubble Parameter: {hubble_parameter}s^⁻1\")"
      ],
      "metadata": {
        "colab": {
          "base_uri": "https://localhost:8080/"
        },
        "id": "XjwQeGhRZrwJ",
        "outputId": "7429feb8-59f7-4534-95d5-36ed52118d4a"
      },
      "execution_count": 6,
      "outputs": [
        {
          "output_type": "stream",
          "name": "stdout",
          "text": [
            "Hubble Parameter: 1.7012313674659755e-19s^⁻1\n"
          ]
        }
      ]
    },
    {
      "cell_type": "code",
      "source": [],
      "metadata": {
        "id": "XaVnLli4ZzUI"
      },
      "execution_count": null,
      "outputs": []
    }
  ]
}