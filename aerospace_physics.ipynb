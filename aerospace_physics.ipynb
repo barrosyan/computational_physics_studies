{
  "nbformat": 4,
  "nbformat_minor": 0,
  "metadata": {
    "colab": {
      "provenance": [],
      "authorship_tag": "ABX9TyMw2Ba+D4fifx4N5GMiY9IO"
    },
    "kernelspec": {
      "name": "python3",
      "display_name": "Python 3"
    },
    "language_info": {
      "name": "python"
    }
  },
  "cells": [
    {
      "cell_type": "code",
      "source": [
        "import numpy as np"
      ],
      "metadata": {
        "id": "cggs9q3Tj60v"
      },
      "execution_count": 3,
      "outputs": []
    },
    {
      "cell_type": "code",
      "execution_count": 4,
      "metadata": {
        "id": "YHFIZ9izjrlB"
      },
      "outputs": [],
      "source": [
        "G=6.67430e-11\n",
        "M=5.97218e24\n",
        "R=6.371e6"
      ]
    },
    {
      "cell_type": "code",
      "source": [
        "orbital_velocity=np.sqrt(G*M/R)"
      ],
      "metadata": {
        "id": "nKpyLdQ5j195"
      },
      "execution_count": 5,
      "outputs": []
    },
    {
      "cell_type": "code",
      "source": [
        "print(f\"Orbital Velocity: {orbital_velocity}m/s\")"
      ],
      "metadata": {
        "colab": {
          "base_uri": "https://localhost:8080/"
        },
        "id": "7Fo-L57Uj5zW",
        "outputId": "d7441506-b96e-4815-84b7-4246f42341da"
      },
      "execution_count": 6,
      "outputs": [
        {
          "output_type": "stream",
          "name": "stdout",
          "text": [
            "Orbital Velocity: 7909.800022117606m/s\n"
          ]
        }
      ]
    },
    {
      "cell_type": "code",
      "source": [],
      "metadata": {
        "id": "tf24Xbz2kBEN"
      },
      "execution_count": null,
      "outputs": []
    }
  ]
}