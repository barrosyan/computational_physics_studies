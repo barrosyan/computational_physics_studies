{
  "nbformat": 4,
  "nbformat_minor": 0,
  "metadata": {
    "colab": {
      "provenance": [],
      "authorship_tag": "ABX9TyNhylg4LnsRUkwjM0RXwuXA"
    },
    "kernelspec": {
      "name": "python3",
      "display_name": "Python 3"
    },
    "language_info": {
      "name": "python"
    }
  },
  "cells": [
    {
      "cell_type": "code",
      "execution_count": 1,
      "metadata": {
        "id": "KDXaCoaJZ_CL"
      },
      "outputs": [],
      "source": [
        "import numpy as np"
      ]
    },
    {
      "cell_type": "code",
      "source": [
        "energy_levels = np.array([0,1,2,3])\n",
        "probabilities=np.array([0.1,0.3,0.4,0.2])"
      ],
      "metadata": {
        "id": "Y7YRH3u0aDSO"
      },
      "execution_count": 2,
      "outputs": []
    },
    {
      "cell_type": "code",
      "source": [
        "average_energy=np.sum(energy_levels*probabilities)"
      ],
      "metadata": {
        "id": "fzrRDwqBaLtr"
      },
      "execution_count": 3,
      "outputs": []
    },
    {
      "cell_type": "code",
      "source": [
        "print(f\"Average Energy: {average_energy}\")"
      ],
      "metadata": {
        "colab": {
          "base_uri": "https://localhost:8080/"
        },
        "id": "ycLxYkHhaRWC",
        "outputId": "69f12832-2456-455c-d16e-d680583277a6"
      },
      "execution_count": 4,
      "outputs": [
        {
          "output_type": "stream",
          "name": "stdout",
          "text": [
            "Average Energy: 1.7000000000000002\n"
          ]
        }
      ]
    },
    {
      "cell_type": "code",
      "source": [],
      "metadata": {
        "id": "RvbGfrRraZlp"
      },
      "execution_count": null,
      "outputs": []
    }
  ]
}