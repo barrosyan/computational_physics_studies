{
  "nbformat": 4,
  "nbformat_minor": 0,
  "metadata": {
    "colab": {
      "provenance": [],
      "authorship_tag": "ABX9TyPqs0/phPm2RcjYFgrsOfJ/"
    },
    "kernelspec": {
      "name": "python3",
      "display_name": "Python 3"
    },
    "language_info": {
      "name": "python"
    }
  },
  "cells": [
    {
      "cell_type": "code",
      "execution_count": 1,
      "metadata": {
        "id": "wNRlM2D9ajgZ"
      },
      "outputs": [],
      "source": [
        "import numpy as np"
      ]
    },
    {
      "cell_type": "code",
      "source": [
        "half_life=5730"
      ],
      "metadata": {
        "id": "NhmTIpZkanxp"
      },
      "execution_count": 2,
      "outputs": []
    },
    {
      "cell_type": "code",
      "source": [
        "decay_constant=np.log(2)/half_life"
      ],
      "metadata": {
        "id": "hm88x8dxaps3"
      },
      "execution_count": 3,
      "outputs": []
    },
    {
      "cell_type": "code",
      "source": [
        "print(f\"Decay Constant: {decay_constant} per year.\")"
      ],
      "metadata": {
        "colab": {
          "base_uri": "https://localhost:8080/"
        },
        "id": "tDHOlC1vat-W",
        "outputId": "68b046c6-bc3c-45ec-8cfb-fb41b87f701b"
      },
      "execution_count": 4,
      "outputs": [
        {
          "output_type": "stream",
          "name": "stdout",
          "text": [
            "Decay Constant: 0.00012096809433855938 per year.\n"
          ]
        }
      ]
    },
    {
      "cell_type": "code",
      "source": [],
      "metadata": {
        "id": "_klnIQpuayo1"
      },
      "execution_count": null,
      "outputs": []
    }
  ]
}